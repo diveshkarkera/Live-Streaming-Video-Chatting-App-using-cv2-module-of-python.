{
 "cells": [
  {
   "cell_type": "code",
   "execution_count": null,
   "id": "73bbaba5",
   "metadata": {
    "scrolled": false
   },
   "outputs": [],
   "source": [
    "import socket\n",
    "import numpy as np\n",
    "import cv2 as cv\n",
    "\n",
    "# client program socket to connect to the server program\n",
    "skt = socket.socket()\n",
    "server_ip = input(\"enter server ip: \")\n",
    "server_port = input(\"enter server port number: \")\n",
    "skt.bind((server_ip, 4321))  # empty means local system\n",
    "\n",
    "skt.connect((server_ip, int(server_port))) \n",
    "skt.send(b\"connected\")  # sending string as data\n",
    "cameraIndex = 0 # the camera to use i.e. laptop webcam\n",
    "camera = cv.VideoCapture(cameraIndex) # starting the camera\n",
    "\n",
    "def receiver():\n",
    "    print(\"Entered\")\n",
    "    while True:\n",
    "        data = skt.recv(100000000)  # receiving data with the size limit\n",
    "        if(data == b'finished'): # to stop receiving and stop camera\n",
    "            print(\"Finished\")\n",
    "            camera.release()\n",
    "            skt.close()\n",
    "        else:  \n",
    "            photo =  np.frombuffer(data, dtype=np.uint8) # converting the byte data into numpy array\n",
    "            if len(photo) == 640*480*3: # changing the array shape and getting the video\n",
    "                cv.imshow('From Server', photo.reshape(480, 640, 3))\n",
    "                if cv.waitKey(100) == 13: # camera closing condition\n",
    "                    skt.send(b'finished')\n",
    "                    camera.release()\n",
    "                    cv.destroyAllWindows()\n",
    "                    break\n",
    "            else:\n",
    "                pass           \n",
    "receiver()\n"
   ]
  },
  {
   "cell_type": "code",
   "execution_count": null,
   "id": "76bfd7b1",
   "metadata": {},
   "outputs": [],
   "source": []
  },
  {
   "cell_type": "code",
   "execution_count": null,
   "id": "8b50469b",
   "metadata": {},
   "outputs": [],
   "source": []
  }
 ],
 "metadata": {
  "kernelspec": {
   "display_name": "Python 3",
   "language": "python",
   "name": "python3"
  },
  "language_info": {
   "codemirror_mode": {
    "name": "ipython",
    "version": 3
   },
   "file_extension": ".py",
   "mimetype": "text/x-python",
   "name": "python",
   "nbconvert_exporter": "python",
   "pygments_lexer": "ipython3",
   "version": "3.8.8"
  }
 },
 "nbformat": 4,
 "nbformat_minor": 5
}
